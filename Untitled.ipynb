{
 "cells": [
  {
   "cell_type": "markdown",
   "metadata": {},
   "source": [
    "<!DOCTYPE html>\n",
    "<html>\n",
    "\t<body>\n",
    "\t\t<p>\n",
    "\t\t\tThe year was 2020, and school was out due to COVID-19; leaving me, a 13 year-old boy alone in my room with a computer. This left me plenty of time to browse \"the hub\", or github that is. My situation had given me plenty of time to imporve my programming skills, and I loved the online community of solving problems (my favourites being college homework), and sharing corny memes. I decided I needed a new project, ad I wanted this one to be big, not like a calulator, or a stopwatch, I wanted something very different from anything else I'd ever done, and it had to be my idea. After brainstorming for a few minutes, I decided on creating a function that could check whether a number was prime, or composite, my inspiration was a math Youtube channel called numberphile, so my mind was fresh with the ideas of contemporary and ancient mathematicians. Yet, I didn't quite know how to do it yet. Eventually I realized that all composite numbers can be written as the following\n",
    "\t\t</p>\n",
    "\t</body>\n",
    "</html>\n",
    "\n",
    "$$a*b$$\n",
    "\n",
    "$$a>1$$\n",
    "$$b>1$$\n",
    "\n",
    "$a = int(a)$\n",
    "$b = int(b)$a"
   ]
  }
 ],
 "metadata": {
  "kernelspec": {
   "display_name": "Python 3",
   "language": "python",
   "name": "python3"
  },
  "language_info": {
   "codemirror_mode": {
    "name": "ipython",
    "version": 3
   },
   "file_extension": ".py",
   "mimetype": "text/x-python",
   "name": "python",
   "nbconvert_exporter": "python",
   "pygments_lexer": "ipython3",
   "version": "3.8.2"
  }
 },
 "nbformat": 4,
 "nbformat_minor": 4
}
